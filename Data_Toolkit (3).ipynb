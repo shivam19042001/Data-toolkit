{
  "nbformat": 4,
  "nbformat_minor": 0,
  "metadata": {
    "colab": {
      "provenance": []
    },
    "kernelspec": {
      "name": "python3",
      "display_name": "Python 3"
    },
    "language_info": {
      "name": "python"
    }
  },
  "cells": [
    {
      "cell_type": "code",
      "execution_count": 2,
      "metadata": {
        "id": "xK0hR9iRYjpB"
      },
      "outputs": [],
      "source": [
        "#1 What is NumPy, and why is it widely used in Python?\n",
        "\"\"\"\n",
        "NumPy is a Python library designed for numerical computing.\n",
        "It provides tools for working with arrays and matrices,\n",
        "along with a wide range of mathematical functions for efficient data processing.\n",
        "\"\"\""
      ]
    },
    {
      "cell_type": "code",
      "source": [
        "#2  How does broadcasting work in NumPy?\n",
        "\"\"\"\n",
        "Broadcasting is a technique in NumPy that enables operations on arrays\n",
        "with different shapes by automatically adjusting the smaller array to\n",
        "match the larger one. Instead of duplicating data, NumPy expands the\n",
        "dimensions of the smaller array as needed, ensuring efficient\n",
        "computation while minimizing memory usage.\n",
        "\"\"\"\n"
      ],
      "metadata": {
        "id": "7I_6zk0z8fmu"
      },
      "execution_count": null,
      "outputs": []
    },
    {
      "cell_type": "code",
      "source": [
        "#3  What is a Pandas DataFrame\n",
        "\n",
        "\"\"\"\n",
        "A Pandas DataFrame is a two-dimensional, table-like data structure in Python,\n",
        "similar to an Excel spreadsheet or a SQL table. It is part of the Pandas library\n",
        "and is widely used for data analysis and manipulation.\n",
        "\"\"\""
      ],
      "metadata": {
        "id": "dKA_EZgp8wBW"
      },
      "execution_count": null,
      "outputs": []
    },
    {
      "cell_type": "code",
      "source": [
        "#4 Explain the use of the groupby() method in Pandas\n",
        "\n",
        "\"\"\"\n",
        "The groupby() method in Pandas is used to group data based on one or more columns.\n",
        "After grouping, you can apply aggregation functions like sum(), mean(), or count()\n",
        "to analyze the grouped data. For example, you can group sales data by region and\n",
        "calculate the total sales for each region. This makes it easier to summarize and\n",
        " analyze large datasets efficiently.\n",
        "\"\"\""
      ],
      "metadata": {
        "id": "3yYky8mg8woc"
      },
      "execution_count": null,
      "outputs": []
    },
    {
      "cell_type": "code",
      "source": [
        "#5  Why is Seaborn preferred for statistical visualizations\n",
        "\n",
        "\"\"\"\n",
        "Seaborn is a powerful Python library specifically designed for statistical data visualization.\n",
        " It is built on top of Matplotlib and provides a high-level interface for creating attractive\n",
        " and informative graphics.\n",
        "\"\"\""
      ],
      "metadata": {
        "id": "RUTttN1P82tJ"
      },
      "execution_count": null,
      "outputs": []
    },
    {
      "cell_type": "code",
      "source": [
        "#6 What are the differences between NumPy arrays and Python lists\n",
        "\"\"\"\n",
        "-NumPy arrays are quicker and use less memory than Python lists.\n",
        "They allow element-wise calculations without needing loops, thanks to vectorized operations.\n",
        "-Unlike lists, NumPy arrays store only one data type and can handle multi-dimensional data,\n",
        " making them ideal for advanced numerical tasks.\n",
        "\"\"\""
      ],
      "metadata": {
        "id": "5QXu8Wfk85XJ",
        "colab": {
          "base_uri": "https://localhost:8080/",
          "height": 70
        },
        "outputId": "2bfde56a-4e4a-4046-a525-2b65d9e8681a"
      },
      "execution_count": 5,
      "outputs": [
        {
          "output_type": "execute_result",
          "data": {
            "text/plain": [
              "'\\n-NumPy arrays are quicker and use less memory than Python lists.\\nThey allow element-wise calculations without needing loops, thanks to vectorized operations.\\n-Unlike lists, NumPy arrays store only one data type and can handle multi-dimensional data,\\n making them ideal for advanced numerical tasks.\\n'"
            ],
            "application/vnd.google.colaboratory.intrinsic+json": {
              "type": "string"
            }
          },
          "metadata": {},
          "execution_count": 5
        }
      ]
    },
    {
      "cell_type": "code",
      "source": [
        "#7 What is a heatmap, and when should it be used\n",
        "\"\"\"\n",
        "A heatmap is a graphical representation of data where individual values are shown using varying colors\n",
        " It helps visualize patterns, correlations, or intensities within a dataset.\n",
        "\n",
        "\n",
        "When Should a Heatmap Be Used?\n",
        "\n",
        " Visualizing Correlations – To understand relationships between variables (e.g., correlation between stock prices).\n",
        " Highlighting Trends – To spot high and low values in large datasets (e.g., sales performance across months).\n",
        " Comparing Data Intensity – Useful in geographical maps (e.g., population density, weather temperature).\n",
        "\"\"\""
      ],
      "metadata": {
        "id": "fvGnwfCM9Eqi",
        "colab": {
          "base_uri": "https://localhost:8080/",
          "height": 53
        },
        "outputId": "9da173b9-8d02-4e7e-8b66-87edb26d0581"
      },
      "execution_count": 6,
      "outputs": [
        {
          "output_type": "execute_result",
          "data": {
            "text/plain": [
              "'\\nA heatmap is a graphical representation of data where individual values are shown using varying colors\\n It helps visualize patterns, correlations, or intensities within a dataset.\\n'"
            ],
            "application/vnd.google.colaboratory.intrinsic+json": {
              "type": "string"
            }
          },
          "metadata": {},
          "execution_count": 6
        }
      ]
    },
    {
      "cell_type": "code",
      "source": [
        "#8 What does the term “vectorized operation” mean in NumPy\n",
        "\n",
        "\"\"\"\n",
        "A vectorized operation in NumPy means performing element-wise operations on entire\n",
        " arrays without using explicit loops. Instead of processing each element one by one\n",
        " , NumPy applies the operation to all elements at once, making it faster and more efficient.\n",
        "\"\"\"\n"
      ],
      "metadata": {
        "id": "hWsv8DHE9LrC",
        "colab": {
          "base_uri": "https://localhost:8080/",
          "height": 53
        },
        "outputId": "856fe904-d85c-42b0-e3e2-26bb649f0a75"
      },
      "execution_count": 9,
      "outputs": [
        {
          "output_type": "execute_result",
          "data": {
            "text/plain": [
              "'\\nA vectorized operation in NumPy means performing element-wise operations on entire\\n arrays without using explicit loops. Instead of processing each element one by one\\n , NumPy applies the operation to all elements at once, making it faster and more efficient.\\n'"
            ],
            "application/vnd.google.colaboratory.intrinsic+json": {
              "type": "string"
            }
          },
          "metadata": {},
          "execution_count": 9
        }
      ]
    },
    {
      "cell_type": "code",
      "source": [
        "#9 How does Matplotlib differ from Plotly\n",
        "\"\"\"\n",
        "Matplotlib is best suited for generating high-quality static plots for reports and publications,\n",
        "whereas Plotly is great for building interactive, web-friendly visualizations, making it ideal for dashboards and presentations.\n",
        "\"\"\""
      ],
      "metadata": {
        "id": "kJbvk0YcwgT1"
      },
      "execution_count": null,
      "outputs": []
    },
    {
      "cell_type": "code",
      "source": [
        "#10 What is the significance of hierarchical indexing in Pandas\n",
        "\"\"\"\n",
        "Hierarchical indexing (MultiIndex) in Pandas allows you to have multiple levels of index labels on an axis, making it easier to work with multi-dimensional data in a tabular format.\n",
        "\n",
        "Importantance:-\n",
        "- Organizes Complex Data: Helps in handling grouped or structured data efficiently.\n",
        "- Faster Lookups & Selection: Enables quick access to subsets of data using multiple index levels.\n",
        "- Better Data Representation: Allows storing data with multiple categories in a compact format.\n",
        "\"\"\""
      ],
      "metadata": {
        "id": "RU15NIZxMzPE"
      },
      "execution_count": 10,
      "outputs": []
    },
    {
      "cell_type": "code",
      "source": [
        "#11 What is the role of Seaborn’s pairplot() function\n",
        "\"\"\"\n",
        "The pairplot() function generates a matrix of scatter plots for every combination of variables in a dataset.\n",
        " It helps in understanding relationships between variables and analyzing their distributions effectively.\n",
        "\"\"\""
      ],
      "metadata": {
        "id": "6-bSe51L154a"
      },
      "execution_count": 11,
      "outputs": []
    },
    {
      "cell_type": "code",
      "source": [
        "#12 What is the purpose of the describe() function in Pandas\n",
        "\"\"\"\n",
        "The describe() function in Pandas provides a summary of statistical measures for numerical columns in a DataFrame.\n",
        " It includes metrics like count, mean, standard deviation, minimum, maximum, and quartiles (25%, 50%, 75%), helping\n",
        "  in quickly analyzing the dataset’s distribution and key statistics.\n",
        "\"\"\""
      ],
      "metadata": {
        "id": "nlTcSRi6_nzr",
        "colab": {
          "base_uri": "https://localhost:8080/",
          "height": 36
        },
        "outputId": "110b7028-6bd2-42a2-aa7e-0b02155bc259"
      },
      "execution_count": 12,
      "outputs": [
        {
          "output_type": "execute_result",
          "data": {
            "text/plain": [
              "'\\n\\n'"
            ],
            "application/vnd.google.colaboratory.intrinsic+json": {
              "type": "string"
            }
          },
          "metadata": {},
          "execution_count": 12
        }
      ]
    },
    {
      "cell_type": "code",
      "source": [
        "#13  Why is handling missing data important in Pandas\n",
        "\"\"\"\n",
        "Missing data can distort analysis and produce misleading results. Pandas provides functions like fillna() to substitute\n",
        " missing values and dropna() to eliminate them. Properly managing missing data helps maintain dataset integrity and ensures reliable analysis.\n",
        "\"\"\""
      ],
      "metadata": {
        "id": "os4KmDpyM45W"
      },
      "execution_count": 1,
      "outputs": []
    },
    {
      "cell_type": "code",
      "source": [
        "#14 What are the benefits of using Plotly for data visualization\n",
        "\"\"\"\n",
        "Plotly is a powerful Python library for interactive and web-based data visualization.\n",
        " It offers several advantages over traditional visualization libraries like Matplotlib.\n",
        "\"\"\""
      ],
      "metadata": {
        "id": "ItURnVhBHu0Q"
      },
      "execution_count": 1,
      "outputs": []
    },
    {
      "cell_type": "code",
      "source": [
        "#15 How does NumPy handle multidimensional arrays\n",
        "\"\"\"\n",
        "NumPy provides powerful support for multidimensional arrays (also called ndarrays) that enable efficient storage, manipulation, and mathematical operations on large datasets.\n",
        "\n",
        "Key Features of NumPy Multidimensional Arrays:\n",
        "-N-Dimensional Storage – NumPy’s ndarray can handle 1D (vectors), 2D (matrices), and higher-dimensional data structures.\n",
        "-Efficient Memory Management – Uses a contiguous memory layout, making operations faster than Python lists.\n",
        "-Indexing & Slicing – Supports advanced indexing techniques for easy access to elements.\n",
        "-Broadcasting – Enables operations on arrays of different shapes without explicit loops.\n",
        "-Vectorized Operations – Performs element-wise computations without Python loops.\n",
        "\"\"\""
      ],
      "metadata": {
        "id": "ckBKBTkgH4vm"
      },
      "execution_count": null,
      "outputs": []
    },
    {
      "cell_type": "code",
      "source": [
        "#16 What is the role of Bokeh in data visualization\n",
        "\"\"\"\n",
        "Bokeh is designed for creating interactive, web-based visualizations that can dynamically update in real time.\n",
        " It is particularly useful for building dashboards and handling large datasets efficiently.\n",
        "\"\"\""
      ],
      "metadata": {
        "id": "Usu_FopnH43M"
      },
      "execution_count": null,
      "outputs": []
    },
    {
      "cell_type": "code",
      "source": [
        "#17 Explain the difference between apply() and map() in Pandas\n",
        "\"\"\"\n",
        "The apply() function is used to apply a given function along either the rows or columns of a DataFrame or Series,\n",
        "making it useful for operations involving multiple elements at once. On the other hand, map() is specifically designed\n",
        "for Series and applies a function to each element individually. While apply() is ideal for performing calculations across\n",
        "rows or columns, map() is more suited for modifying or transforming individual values.\n",
        "\"\"\""
      ],
      "metadata": {
        "id": "ZIWpIohnH48g"
      },
      "execution_count": null,
      "outputs": []
    },
    {
      "cell_type": "code",
      "source": [
        "#18 What are some advanced features of NumPy\n",
        "\"\"\"\n",
        "Some advanced capabilities include broadcasting for efficient operations on arrays of different shapes,\n",
        " built-in functions for linear algebra computations, random number generation,\n",
        "and Fast Fourier Transform (FFT) for signal processing and frequency analysis.\n",
        "\"\"\""
      ],
      "metadata": {
        "id": "Ml500g8WH5CJ"
      },
      "execution_count": null,
      "outputs": []
    },
    {
      "cell_type": "code",
      "source": [
        "#19 How does Pandas simplify time series analysis\n",
        "\"\"\"\n",
        "Pandas offers strong capabilities for working with time series data, such as indexing based on time,\n",
        " resampling data at different intervals, applying rolling window calculations, and managing missing timestamps.\n",
        "  These functionalities simplify the processing and analysis of time-dependent data.\n",
        "\"\"\""
      ],
      "metadata": {
        "id": "xWYJhaUBH5Gw"
      },
      "execution_count": null,
      "outputs": []
    },
    {
      "cell_type": "code",
      "source": [
        "#20 What is the role of a pivot table in Pandas\n",
        "\"\"\"\n",
        "A pivot table in Pandas is used to reorganize and summarize data by grouping it based on specific columns and\n",
        "applying aggregate functions like sum, mean, or count. It helps in transforming long-format data into a structured format,\n",
        " making data analysis and comparisons easier.\n",
        "\"\"\""
      ],
      "metadata": {
        "id": "t99b6FwjH5Le"
      },
      "execution_count": null,
      "outputs": []
    },
    {
      "cell_type": "code",
      "source": [
        "#21 Why is NumPy’s array slicing faster than Python’s list slicing\n",
        "\"\"\"\n",
        "NumPy array slicing provides a view of the original data without making a separate copy, as it operates directly at the C level.\n",
        " In contrast, slicing a Python list creates a new copy of the elements, which makes it slower in terms of performance.\n",
        "\"\"\""
      ],
      "metadata": {
        "id": "l4Lsh5B3H5Q9"
      },
      "execution_count": null,
      "outputs": []
    },
    {
      "cell_type": "code",
      "source": [
        "#22 What are some common use cases for Seaborn\n",
        "\"\"\"\n",
        "Seaborn is commonly used for:\n",
        "\n",
        "-Statistical Data Visualization – Creating clear and informative visual representations of data distributions and relationships.\n",
        "-Correlation Analysis – Using heatmaps to visualize relationships between multiple variables.\n",
        "-Categorical Data Visualization – Plotting bar plots, box plots, and violin plots to compare different categories.\n",
        "-Regression Analysis – Using regplot() and lmplot() to explore relationships between variables.\n",
        "-Multi-Variable Comparisons – Using pair plots (pairplot()) to analyze relationships across multiple features.\n",
        "-Time Series Analysis – Plotting trends and variations in time-based data.\n",
        "-Customizing Matplotlib Plots – Enhancing Matplotlib plots with built-in Seaborn themes and aesthetics.\n",
        "\"\"\""
      ],
      "metadata": {
        "id": "2AF0pzIMH5XA"
      },
      "execution_count": null,
      "outputs": []
    },
    {
      "cell_type": "markdown",
      "source": [
        "#Practical Questions"
      ],
      "metadata": {
        "id": "9vdaM_wZeIa_"
      }
    },
    {
      "cell_type": "code",
      "source": [
        "#1 How do you create a 2D NumPy array and calculate the sum of each row\n",
        "\n",
        "import numpy as np\n",
        "\n",
        "\n",
        "arr = np.array([[1, 2, 3],\n",
        "                [4, 5, 6],\n",
        "                [7, 8, 9]])\n",
        "\n",
        "\n",
        "row_sums = np.sum(arr, axis=1)\n",
        "\n",
        "\n",
        "print(\"2D Array:\\n\", arr)\n",
        "print(\"Sum of each row:\", row_sums)\n"
      ],
      "metadata": {
        "colab": {
          "base_uri": "https://localhost:8080/"
        },
        "id": "lorOP2jDH5eB",
        "outputId": "7df1af21-8cbc-4e77-c258-4756c8164367"
      },
      "execution_count": 48,
      "outputs": [
        {
          "output_type": "stream",
          "name": "stdout",
          "text": [
            "2D Array:\n",
            " [[1 2 3]\n",
            " [4 5 6]\n",
            " [7 8 9]]\n",
            "Sum of each row: [ 6 15 24]\n"
          ]
        }
      ]
    },
    {
      "cell_type": "code",
      "source": [
        "#2 Write a Pandas script to find the mean of a specific column in a DataFrame\n",
        "\n",
        "import pandas as pd\n",
        "\n",
        "\n",
        "data = {\n",
        "    'Name': ['Alice', 'Bob', 'Charlie', 'David'],\n",
        "    'Age': [25, 30, 35, 40],\n",
        "    'Salary': [50000, 60000, 70000, 80000]\n",
        "}\n",
        "\n",
        "df = pd.DataFrame(data)\n",
        "\n",
        "\n",
        "mean_salary = df['Salary'].mean()\n",
        "\n",
        "\n",
        "print(\"Mean Salary:\", mean_salary)\n"
      ],
      "metadata": {
        "colab": {
          "base_uri": "https://localhost:8080/"
        },
        "id": "LkY_6rFnH5ja",
        "outputId": "a7707963-c794-48f6-f4ba-eea985893448"
      },
      "execution_count": 47,
      "outputs": [
        {
          "output_type": "stream",
          "name": "stdout",
          "text": [
            "Mean Salary: 65000.0\n"
          ]
        }
      ]
    },
    {
      "cell_type": "code",
      "source": [
        "#3 import matplotlib.pyplot as plt\n",
        "\n",
        "import matplotlib.pyplot as plt\n",
        "\n",
        "\n",
        "x = [10, 20, 30, 40, 50]\n",
        "y = [5, 15, 25, 35, 45]\n",
        "\n",
        "\n",
        "plt.scatter(x, y, color='blue', marker='o', label='Data Points')\n",
        "\n",
        "\n",
        "plt.xlabel(\"X-axis\")\n",
        "plt.ylabel(\"Y-axis\")\n",
        "plt.title(\"Simple Scatter Plot\")\n",
        "\n",
        "\n",
        "plt.legend()\n",
        "\n",
        "\n",
        "plt.show()\n",
        "\n",
        "\n"
      ],
      "metadata": {
        "colab": {
          "base_uri": "https://localhost:8080/",
          "height": 472
        },
        "id": "hc-TG7u1H5p7",
        "outputId": "36bd14bb-da25-457c-914f-1e57387636e8"
      },
      "execution_count": 46,
      "outputs": [
        {
          "output_type": "display_data",
          "data": {
            "text/plain": [
              "<Figure size 640x480 with 1 Axes>"
            ],
            "image/png": "[encoded data removed]"
          },
          "metadata": {}
        }
      ]
    },
    {
      "cell_type": "code",
      "source": [
        "#4 How do you calculate the correlation matrix using Seaborn and visualize it with a heatmap\n",
        "\n",
        "import pandas as pd\n",
        "import seaborn as sns\n",
        "import matplotlib.pyplot as plt\n",
        "\n",
        "\n",
        "data = {\n",
        "    \"A\": [10, 20, 30, 40, 50],\n",
        "    \"B\": [5, 15, 25, 35, 45],\n",
        "    \"C\": [2, 8, 18, 28, 38]\n",
        "}\n",
        "\n",
        "\n",
        "df = pd.DataFrame(data)\n",
        "\n",
        "\n",
        "corr_matrix = df.corr()\n",
        "\n",
        "\n",
        "plt.figure(figsize=(6, 4))\n",
        "sns.heatmap(corr_matrix, annot=True, cmap=\"coolwarm\", fmt=\".2f\", linewidths=0.5)\n",
        "\n",
        "\n",
        "plt.title(\"Correlation Matrix Heatmap\")\n",
        "\n",
        "\n",
        "plt.show()\n"
      ],
      "metadata": {
        "colab": {
          "base_uri": "https://localhost:8080/",
          "height": 391
        },
        "id": "dZogqyu6H5wV",
        "outputId": "046a3c7d-2a68-40b7-ba4c-49ed6d7c50e2"
      },
      "execution_count": 45,
      "outputs": [
        {
          "output_type": "display_data",
          "data": {
            "text/plain": [
              "<Figure size 600x400 with 2 Axes>"
            ],
            "image/png": "[encoded data removed]"
          },
          "metadata": {}
        }
      ]
    },
    {
      "cell_type": "code",
      "source": [
        "#5 Generate a bar plot using Plotly\n",
        "\n",
        "import plotly.express as px\n",
        "\n",
        "\n",
        "data = {\n",
        "    \"Category\": [\"A\", \"B\", \"C\", \"D\", \"E\"],\n",
        "    \"Values\": [10, 30, 20, 50, 40]\n",
        "}\n",
        "\n",
        "\n",
        "fig = px.bar(data, x=\"Category\", y=\"Values\", title=\"Bar Plot Example\",\n",
        "             labels={\"Values\": \"Value Count\", \"Category\": \"Categories\"},\n",
        "             color=\"Category\")\n",
        "\n",
        "\n",
        "fig.show()\n"
      ],
      "metadata": {
        "colab": {
          "base_uri": "https://localhost:8080/",
          "height": 542
        },
        "id": "GpaQ7eJrH52c",
        "outputId": "f2c6e072-fa75-4816-ab5b-e2eea6f957b7"
      },
      "execution_count": 1,
      "outputs": [
        {
          "output_type": "display_data",
          "data": {
            "text/html": [
              "<html>\n",
              "<head><meta charset=\"utf-8\" /></head>\n",
              "<body>\n",
              "    <div>            <script src=\"https://cdnjs.cloudflare.com/ajax/libs/mathjax/2.7.5/MathJax.js?config=TeX-AMS-MML_SVG\"></script><script type=\"text/javascript\">if (window.MathJax && window.MathJax.Hub && window.MathJax.Hub.Config) {window.MathJax.Hub.Config({SVG: {font: \"STIX-Web\"}});}</script>                <script type=\"text/javascript\">window.PlotlyConfig = {MathJaxConfig: 'local'};</script>\n",
              "        <script charset=\"utf-8\" src=\"https://cdn.plot.ly/plotly-2.35.2.min.js\"></script>                <div id=\"806ac03a-251a-40da-8796-f146b8c5d7fa\" class=\"plotly-graph-div\" style=\"height:525px; width:100%;\"></div>            <script type=\"text/javascript\">                                    window.PLOTLYENV=window.PLOTLYENV || {};                                    if (document.getElementById(\"806ac03a-251a-40da-8796-f146b8c5d7fa\")) {                    Plotly.newPlot(                        \"806ac03a-251a-40da-8796-f146b8c5d7fa\",                        [{\"alignmentgroup\":\"True\",\"hovertemplate\":\"Categories=%{x}\\u003cbr\\u003eValue Count=%{y}\\u003cextra\\u003e\\u003c\\u002fextra\\u003e\",\"legendgroup\":\"A\",\"marker\":{\"color\":\"#636efa\",\"pattern\":{\"shape\":\"\"}},\"name\":\"A\",\"offsetgroup\":\"A\",\"orientation\":\"v\",\"showlegend\":true,\"textposition\":\"auto\",\"x\":[\"A\"],\"xaxis\":\"x\",\"y\":[10],\"yaxis\":\"y\",\"type\":\"bar\"},{\"alignmentgroup\":\"True\",\"hovertemplate\":\"Categories=%{x}\\u003cbr\\u003eValue Count=%{y}\\u003cextra\\u003e\\u003c\\u002fextra\\u003e\",\"legendgroup\":\"B\",\"marker\":{\"color\":\"#EF553B\",\"pattern\":{\"shape\":\"\"}},\"name\":\"B\",\"offsetgroup\":\"B\",\"orientation\":\"v\",\"showlegend\":true,\"textposition\":\"auto\",\"x\":[\"B\"],\"xaxis\":\"x\",\"y\":[30],\"yaxis\":\"y\",\"type\":\"bar\"},{\"alignmentgroup\":\"True\",\"hovertemplate\":\"Categories=%{x}\\u003cbr\\u003eValue Count=%{y}\\u003cextra\\u003e\\u003c\\u002fextra\\u003e\",\"legendgroup\":\"C\",\"marker\":{\"color\":\"#00cc96\",\"pattern\":{\"shape\":\"\"}},\"name\":\"C\",\"offsetgroup\":\"C\",\"orientation\":\"v\",\"showlegend\":true,\"textposition\":\"auto\",\"x\":[\"C\"],\"xaxis\":\"x\",\"y\":[20],\"yaxis\":\"y\",\"type\":\"bar\"},{\"alignmentgroup\":\"True\",\"hovertemplate\":\"Categories=%{x}\\u003cbr\\u003eValue Count=%{y}\\u003cextra\\u003e\\u003c\\u002fextra\\u003e\",\"legendgroup\":\"D\",\"marker\":{\"color\":\"#ab63fa\",\"pattern\":{\"shape\":\"\"}},\"name\":\"D\",\"offsetgroup\":\"D\",\"orientation\":\"v\",\"showlegend\":true,\"textposition\":\"auto\",\"x\":[\"D\"],\"xaxis\":\"x\",\"y\":[50],\"yaxis\":\"y\",\"type\":\"bar\"},{\"alignmentgroup\":\"True\",\"hovertemplate\":\"Categories=%{x}\\u003cbr\\u003eValue Count=%{y}\\u003cextra\\u003e\\u003c\\u002fextra\\u003e\",\"legendgroup\":\"E\",\"marker\":{\"color\":\"#FFA15A\",\"pattern\":{\"shape\":\"\"}},\"name\":\"E\",\"offsetgroup\":\"E\",\"orientation\":\"v\",\"showlegend\":true,\"textposition\":\"auto\",\"x\":[\"E\"],\"xaxis\":\"x\",\"y\":[40],\"yaxis\":\"y\",\"type\":\"bar\"}],                        {\"template\":{\"data\":{\"histogram2dcontour\":[{\"type\":\"histogram2dcontour\",\"colorbar\":{\"outlinewidth\":0,\"ticks\":\"\"},\"colorscale\":[[0.0,\"#0d0887\"],[0.1111111111111111,\"#46039f\"],[0.2222222222222222,\"#7201a8\"],[0.3333333333333333,\"#9c179e\"],[0.4444444444444444,\"#bd3786\"],[0.5555555555555556,\"#d8576b\"],[0.6666666666666666,\"#ed7953\"],[0.7777777777777778,\"#fb9f3a\"],[0.8888888888888888,\"#fdca26\"],[1.0,\"#f0f921\"]]}],\"choropleth\":[{\"type\":\"choropleth\",\"colorbar\":{\"outlinewidth\":0,\"ticks\":\"\"}}],\"histogram2d\":[{\"type\":\"histogram2d\",\"colorbar\":{\"outlinewidth\":0,\"ticks\":\"\"},\"colorscale\":[[0.0,\"#0d0887\"],[0.1111111111111111,\"#46039f\"],[0.2222222222222222,\"#7201a8\"],[0.3333333333333333,\"#9c179e\"],[0.4444444444444444,\"#bd3786\"],[0.5555555555555556,\"#d8576b\"],[0.6666666666666666,\"#ed7953\"],[0.7777777777777778,\"#fb9f3a\"],[0.8888888888888888,\"#fdca26\"],[1.0,\"#f0f921\"]]}],\"heatmap\":[{\"type\":\"heatmap\",\"colorbar\":{\"outlinewidth\":0,\"ticks\":\"\"},\"colorscale\":[[0.0,\"#0d0887\"],[0.1111111111111111,\"#46039f\"],[0.2222222222222222,\"#7201a8\"],[0.3333333333333333,\"#9c179e\"],[0.4444444444444444,\"#bd3786\"],[0.5555555555555556,\"#d8576b\"],[0.6666666666666666,\"#ed7953\"],[0.7777777777777778,\"#fb9f3a\"],[0.8888888888888888,\"#fdca26\"],[1.0,\"#f0f921\"]]}],\"heatmapgl\":[{\"type\":\"heatmapgl\",\"colorbar\":{\"outlinewidth\":0,\"ticks\":\"\"},\"colorscale\":[[0.0,\"#0d0887\"],[0.1111111111111111,\"#46039f\"],[0.2222222222222222,\"#7201a8\"],[0.3333333333333333,\"#9c179e\"],[0.4444444444444444,\"#bd3786\"],[0.5555555555555556,\"#d8576b\"],[0.6666666666666666,\"#ed7953\"],[0.7777777777777778,\"#fb9f3a\"],[0.8888888888888888,\"#fdca26\"],[1.0,\"#f0f921\"]]}],\"contourcarpet\":[{\"type\":\"contourcarpet\",\"colorbar\":{\"outlinewidth\":0,\"ticks\":\"\"}}],\"contour\":[{\"type\":\"contour\",\"colorbar\":{\"outlinewidth\":0,\"ticks\":\"\"},\"colorscale\":[[0.0,\"#0d0887\"],[0.1111111111111111,\"#46039f\"],[0.2222222222222222,\"#7201a8\"],[0.3333333333333333,\"#9c179e\"],[0.4444444444444444,\"#bd3786\"],[0.5555555555555556,\"#d8576b\"],[0.6666666666666666,\"#ed7953\"],[0.7777777777777778,\"#fb9f3a\"],[0.8888888888888888,\"#fdca26\"],[1.0,\"#f0f921\"]]}],\"surface\":[{\"type\":\"surface\",\"colorbar\":{\"outlinewidth\":0,\"ticks\":\"\"},\"colorscale\":[[0.0,\"#0d0887\"],[0.1111111111111111,\"#46039f\"],[0.2222222222222222,\"#7201a8\"],[0.3333333333333333,\"#9c179e\"],[0.4444444444444444,\"#bd3786\"],[0.5555555555555556,\"#d8576b\"],[0.6666666666666666,\"#ed7953\"],[0.7777777777777778,\"#fb9f3a\"],[0.8888888888888888,\"#fdca26\"],[1.0,\"#f0f921\"]]}],\"mesh3d\":[{\"type\":\"mesh3d\",\"colorbar\":{\"outlinewidth\":0,\"ticks\":\"\"}}],\"scatter\":[{\"fillpattern\":{\"fillmode\":\"overlay\",\"size\":10,\"solidity\":0.2},\"type\":\"scatter\"}],\"parcoords\":[{\"type\":\"parcoords\",\"line\":{\"colorbar\":{\"outlinewidth\":0,\"ticks\":\"\"}}}],\"scatterpolargl\":[{\"type\":\"scatterpolargl\",\"marker\":{\"colorbar\":{\"outlinewidth\":0,\"ticks\":\"\"}}}],\"bar\":[{\"error_x\":{\"color\":\"#2a3f5f\"},\"error_y\":{\"color\":\"#2a3f5f\"},\"marker\":{\"line\":{\"color\":\"#E5ECF6\",\"width\":0.5},\"pattern\":{\"fillmode\":\"overlay\",\"size\":10,\"solidity\":0.2}},\"type\":\"bar\"}],\"scattergeo\":[{\"type\":\"scattergeo\",\"marker\":{\"colorbar\":{\"outlinewidth\":0,\"ticks\":\"\"}}}],\"scatterpolar\":[{\"type\":\"scatterpolar\",\"marker\":{\"colorbar\":{\"outlinewidth\":0,\"ticks\":\"\"}}}],\"histogram\":[{\"marker\":{\"pattern\":{\"fillmode\":\"overlay\",\"size\":10,\"solidity\":0.2}},\"type\":\"histogram\"}],\"scattergl\":[{\"type\":\"scattergl\",\"marker\":{\"colorbar\":{\"outlinewidth\":0,\"ticks\":\"\"}}}],\"scatter3d\":[{\"type\":\"scatter3d\",\"line\":{\"colorbar\":{\"outlinewidth\":0,\"ticks\":\"\"}},\"marker\":{\"colorbar\":{\"outlinewidth\":0,\"ticks\":\"\"}}}],\"scattermapbox\":[{\"type\":\"scattermapbox\",\"marker\":{\"colorbar\":{\"outlinewidth\":0,\"ticks\":\"\"}}}],\"scatterternary\":[{\"type\":\"scatterternary\",\"marker\":{\"colorbar\":{\"outlinewidth\":0,\"ticks\":\"\"}}}],\"scattercarpet\":[{\"type\":\"scattercarpet\",\"marker\":{\"colorbar\":{\"outlinewidth\":0,\"ticks\":\"\"}}}],\"carpet\":[{\"aaxis\":{\"endlinecolor\":\"#2a3f5f\",\"gridcolor\":\"white\",\"linecolor\":\"white\",\"minorgridcolor\":\"white\",\"startlinecolor\":\"#2a3f5f\"},\"baxis\":{\"endlinecolor\":\"#2a3f5f\",\"gridcolor\":\"white\",\"linecolor\":\"white\",\"minorgridcolor\":\"white\",\"startlinecolor\":\"#2a3f5f\"},\"type\":\"carpet\"}],\"table\":[{\"cells\":{\"fill\":{\"color\":\"#EBF0F8\"},\"line\":{\"color\":\"white\"}},\"header\":{\"fill\":{\"color\":\"#C8D4E3\"},\"line\":{\"color\":\"white\"}},\"type\":\"table\"}],\"barpolar\":[{\"marker\":{\"line\":{\"color\":\"#E5ECF6\",\"width\":0.5},\"pattern\":{\"fillmode\":\"overlay\",\"size\":10,\"solidity\":0.2}},\"type\":\"barpolar\"}],\"pie\":[{\"automargin\":true,\"type\":\"pie\"}]},\"layout\":{\"autotypenumbers\":\"strict\",\"colorway\":[\"#636efa\",\"#EF553B\",\"#00cc96\",\"#ab63fa\",\"#FFA15A\",\"#19d3f3\",\"#FF6692\",\"#B6E880\",\"#FF97FF\",\"#FECB52\"],\"font\":{\"color\":\"#2a3f5f\"},\"hovermode\":\"closest\",\"hoverlabel\":{\"align\":\"left\"},\"paper_bgcolor\":\"white\",\"plot_bgcolor\":\"#E5ECF6\",\"polar\":{\"bgcolor\":\"#E5ECF6\",\"angularaxis\":{\"gridcolor\":\"white\",\"linecolor\":\"white\",\"ticks\":\"\"},\"radialaxis\":{\"gridcolor\":\"white\",\"linecolor\":\"white\",\"ticks\":\"\"}},\"ternary\":{\"bgcolor\":\"#E5ECF6\",\"aaxis\":{\"gridcolor\":\"white\",\"linecolor\":\"white\",\"ticks\":\"\"},\"baxis\":{\"gridcolor\":\"white\",\"linecolor\":\"white\",\"ticks\":\"\"},\"caxis\":{\"gridcolor\":\"white\",\"linecolor\":\"white\",\"ticks\":\"\"}},\"coloraxis\":{\"colorbar\":{\"outlinewidth\":0,\"ticks\":\"\"}},\"colorscale\":{\"sequential\":[[0.0,\"#0d0887\"],[0.1111111111111111,\"#46039f\"],[0.2222222222222222,\"#7201a8\"],[0.3333333333333333,\"#9c179e\"],[0.4444444444444444,\"#bd3786\"],[0.5555555555555556,\"#d8576b\"],[0.6666666666666666,\"#ed7953\"],[0.7777777777777778,\"#fb9f3a\"],[0.8888888888888888,\"#fdca26\"],[1.0,\"#f0f921\"]],\"sequentialminus\":[[0.0,\"#0d0887\"],[0.1111111111111111,\"#46039f\"],[0.2222222222222222,\"#7201a8\"],[0.3333333333333333,\"#9c179e\"],[0.4444444444444444,\"#bd3786\"],[0.5555555555555556,\"#d8576b\"],[0.6666666666666666,\"#ed7953\"],[0.7777777777777778,\"#fb9f3a\"],[0.8888888888888888,\"#fdca26\"],[1.0,\"#f0f921\"]],\"diverging\":[[0,\"#8e0152\"],[0.1,\"#c51b7d\"],[0.2,\"#de77ae\"],[0.3,\"#f1b6da\"],[0.4,\"#fde0ef\"],[0.5,\"#f7f7f7\"],[0.6,\"#e6f5d0\"],[0.7,\"#b8e186\"],[0.8,\"#7fbc41\"],[0.9,\"#4d9221\"],[1,\"#276419\"]]},\"xaxis\":{\"gridcolor\":\"white\",\"linecolor\":\"white\",\"ticks\":\"\",\"title\":{\"standoff\":15},\"zerolinecolor\":\"white\",\"automargin\":true,\"zerolinewidth\":2},\"yaxis\":{\"gridcolor\":\"white\",\"linecolor\":\"white\",\"ticks\":\"\",\"title\":{\"standoff\":15},\"zerolinecolor\":\"white\",\"automargin\":true,\"zerolinewidth\":2},\"scene\":{\"xaxis\":{\"backgroundcolor\":\"#E5ECF6\",\"gridcolor\":\"white\",\"linecolor\":\"white\",\"showbackground\":true,\"ticks\":\"\",\"zerolinecolor\":\"white\",\"gridwidth\":2},\"yaxis\":{\"backgroundcolor\":\"#E5ECF6\",\"gridcolor\":\"white\",\"linecolor\":\"white\",\"showbackground\":true,\"ticks\":\"\",\"zerolinecolor\":\"white\",\"gridwidth\":2},\"zaxis\":{\"backgroundcolor\":\"#E5ECF6\",\"gridcolor\":\"white\",\"linecolor\":\"white\",\"showbackground\":true,\"ticks\":\"\",\"zerolinecolor\":\"white\",\"gridwidth\":2}},\"shapedefaults\":{\"line\":{\"color\":\"#2a3f5f\"}},\"annotationdefaults\":{\"arrowcolor\":\"#2a3f5f\",\"arrowhead\":0,\"arrowwidth\":1},\"geo\":{\"bgcolor\":\"white\",\"landcolor\":\"#E5ECF6\",\"subunitcolor\":\"white\",\"showland\":true,\"showlakes\":true,\"lakecolor\":\"white\"},\"title\":{\"x\":0.05},\"mapbox\":{\"style\":\"light\"}}},\"xaxis\":{\"anchor\":\"y\",\"domain\":[0.0,1.0],\"title\":{\"text\":\"Categories\"},\"categoryorder\":\"array\",\"categoryarray\":[\"A\",\"B\",\"C\",\"D\",\"E\"]},\"yaxis\":{\"anchor\":\"x\",\"domain\":[0.0,1.0],\"title\":{\"text\":\"Value Count\"}},\"legend\":{\"title\":{\"text\":\"Categories\"},\"tracegroupgap\":0},\"title\":{\"text\":\"Bar Plot Example\"},\"barmode\":\"relative\"},                        {\"responsive\": true}                    ).then(function(){\n",
              "                            \n",
              "var gd = document.getElementById('806ac03a-251a-40da-8796-f146b8c5d7fa');\n",
              "var x = new MutationObserver(function (mutations, observer) {{\n",
              "        var display = window.getComputedStyle(gd).display;\n",
              "        if (!display || display === 'none') {{\n",
              "            console.log([gd, 'removed!']);\n",
              "            Plotly.purge(gd);\n",
              "            observer.disconnect();\n",
              "        }}\n",
              "}});\n",
              "\n",
              "// Listen for the removal of the full notebook cells\n",
              "var notebookContainer = gd.closest('#notebook-container');\n",
              "if (notebookContainer) {{\n",
              "    x.observe(notebookContainer, {childList: true});\n",
              "}}\n",
              "\n",
              "// Listen for the clearing of the current output cell\n",
              "var outputEl = gd.closest('.output');\n",
              "if (outputEl) {{\n",
              "    x.observe(outputEl, {childList: true});\n",
              "}}\n",
              "\n",
              "                        })                };                            </script>        </div>\n",
              "</body>\n",
              "</html>"
            ]
          },
          "metadata": {}
        }
      ]
    },
    {
      "cell_type": "code",
      "source": [
        "#6 Create a DataFrame and add a new column based on an existing column\n",
        "\n",
        "import pandas as pd\n",
        "\n",
        "\n",
        "data = {\n",
        "    \"Name\": [\"Alice\", \"Bob\", \"Charlie\", \"David\"],\n",
        "    \"Age\": [25, 30, 35, 40]\n",
        "}\n",
        "\n",
        "df = pd.DataFrame(data)\n",
        "\n",
        "\n",
        "df[\"Age Group\"] = df[\"Age\"].apply(lambda x: \"Young\" if x < 30 else \"Adult\")\n",
        "\n",
        "\n",
        "print(df)\n"
      ],
      "metadata": {
        "colab": {
          "base_uri": "https://localhost:8080/"
        },
        "id": "Vl-JUniiH58J",
        "outputId": "63513fa1-46d4-4152-e849-b9720c9e85a3"
      },
      "execution_count": 43,
      "outputs": [
        {
          "output_type": "stream",
          "name": "stdout",
          "text": [
            "      Name  Age Age Group\n",
            "0    Alice   25     Young\n",
            "1      Bob   30     Adult\n",
            "2  Charlie   35     Adult\n",
            "3    David   40     Adult\n"
          ]
        }
      ]
    },
    {
      "cell_type": "code",
      "source": [
        "#7 Write a program to perform element-wise multiplication of two NumPy arrays\n",
        "\n",
        "import numpy as np\n",
        "\n",
        "\n",
        "arr1 = np.array([1, 2, 3, 4])\n",
        "arr2 = np.array([5, 6, 7, 8])\n",
        "\n",
        "\n",
        "result = arr1 * arr2\n",
        "\n",
        "\n",
        "print(\"Array 1:\", arr1)\n",
        "print(\"Array 2:\", arr2)\n",
        "print(\"Element-wise Multiplication:\", result)\n"
      ],
      "metadata": {
        "colab": {
          "base_uri": "https://localhost:8080/"
        },
        "id": "EUxTkummH6Cd",
        "outputId": "8e486fb6-afcc-43ec-e6cc-64b3ab637eaa"
      },
      "execution_count": 42,
      "outputs": [
        {
          "output_type": "stream",
          "name": "stdout",
          "text": [
            "Array 1: [1 2 3 4]\n",
            "Array 2: [5 6 7 8]\n",
            "Element-wise Multiplication: [ 5 12 21 32]\n"
          ]
        }
      ]
    },
    {
      "cell_type": "code",
      "source": [
        "#8 Create a line plot with multiple lines using Matplotlib\n",
        "\n",
        "import matplotlib.pyplot as plt\n",
        "\n",
        "\n",
        "x = [1, 2, 3, 4, 5]\n",
        "y1 = [10, 15, 20, 25, 30]\n",
        "y2 = [5, 10, 15, 20, 25]\n",
        "y3 = [2, 7, 12, 17, 22]\n",
        "\n",
        "\n",
        "plt.plot(x, y1, label=\"Line 1\", marker=\"o\", linestyle=\"--\", color=\"blue\")\n",
        "plt.plot(x, y2, label=\"Line 2\", marker=\"s\", linestyle=\"-.\", color=\"red\")\n",
        "plt.plot(x, y3, label=\"Line 3\", marker=\"d\", linestyle=\":\", color=\"green\")\n",
        "\n",
        "\n",
        "plt.title(\"Multiple Line Plot Example\")\n",
        "plt.xlabel(\"X-axis\")\n",
        "plt.ylabel(\"Y-axis\")\n",
        "\n",
        "\n",
        "plt.legend()\n",
        "\n",
        "\n",
        "plt.show()\n",
        "\n"
      ],
      "metadata": {
        "colab": {
          "base_uri": "https://localhost:8080/",
          "height": 472
        },
        "id": "9yTtC7mlH6Ip",
        "outputId": "a80fd870-81e3-4a96-db72-f10ecf320cee"
      },
      "execution_count": 41,
      "outputs": [
        {
          "output_type": "display_data",
          "data": {
            "text/plain": [
              "<Figure size 640x480 with 1 Axes>"
            ],
            "image/png": "[encoded data removed]"
          },
          "metadata": {}
        }
      ]
    },
    {
      "cell_type": "code",
      "source": [
        "#9 Generate a Pandas DataFrame and filter rows where a column value is greater than a threshold\n",
        "\n",
        "import pandas as pd\n",
        "\n",
        "\n",
        "data = {\n",
        "    \"Name\": [\"Alice\", \"Bob\", \"Charlie\", \"David\", \"Eve\"],\n",
        "    \"Age\": [25, 32, 18, 40, 22],\n",
        "    \"Score\": [85, 90, 78, 95, 88]\n",
        "}\n",
        "\n",
        "df = pd.DataFrame(data)\n",
        "\n",
        "\n",
        "filtered_df = df[df[\"Age\"] > 25]\n",
        "\n",
        "\n",
        "print(filtered_df)\n"
      ],
      "metadata": {
        "colab": {
          "base_uri": "https://localhost:8080/"
        },
        "id": "WdFbkRUXH6PU",
        "outputId": "cbc9c9b8-4487-46d0-c24e-831bd7a14c4a"
      },
      "execution_count": 40,
      "outputs": [
        {
          "output_type": "stream",
          "name": "stdout",
          "text": [
            "    Name  Age  Score\n",
            "1    Bob   32     90\n",
            "3  David   40     95\n"
          ]
        }
      ]
    },
    {
      "cell_type": "code",
      "source": [
        "#10  Create a histogram using Seaborn to visualize a distribution\n",
        "\n",
        "import seaborn as sns\n",
        "import matplotlib.pyplot as plt\n",
        "import numpy as np\n",
        "\n",
        "\n",
        "data = np.random.randn(500)\n",
        "\n",
        "\n",
        "sns.histplot(data, bins=30, kde=True, color=\"blue\")\n",
        "\n",
        "\n",
        "plt.xlabel(\"Value\")\n",
        "plt.ylabel(\"Frequency\")\n",
        "plt.title(\"Histogram of Normally Distributed Data\")\n",
        "\n",
        "\n",
        "plt.show()\n"
      ],
      "metadata": {
        "colab": {
          "base_uri": "https://localhost:8080/",
          "height": 472
        },
        "id": "e_JtskLnH6VV",
        "outputId": "a1463229-b5e7-4073-f9ae-65bd725c50d3"
      },
      "execution_count": 39,
      "outputs": [
        {
          "output_type": "display_data",
          "data": {
            "text/plain": [
              "<Figure size 640x480 with 1 Axes>"
            ],
            "image/png": "[encoded data removed]"
          },
          "metadata": {}
        }
      ]
    },
    {
      "cell_type": "code",
      "source": [
        "#11 Perform matrix multiplication using NumPy\n",
        "\n",
        "import numpy as np\n",
        "\n",
        "\n",
        "A = np.array([[1, 2],\n",
        "              [3, 4]])\n",
        "\n",
        "B = np.array([[5, 6],\n",
        "              [7, 8]])\n",
        "\n",
        "\n",
        "\n",
        "\n",
        "result2 = np.matmul(A, B)\n",
        "\n",
        "\n",
        "print(\"Matrix A:\\n\", A)\n",
        "print(\"Matrix B:\\n\", B)\n",
        "\n",
        "print(\"Result using np.matmul():\\n\", result2)\n"
      ],
      "metadata": {
        "colab": {
          "base_uri": "https://localhost:8080/"
        },
        "id": "WLd7v-xIH6bj",
        "outputId": "a595817e-78a7-4f26-c936-3776a815ee14"
      },
      "execution_count": 38,
      "outputs": [
        {
          "output_type": "stream",
          "name": "stdout",
          "text": [
            "Matrix A:\n",
            " [[1 2]\n",
            " [3 4]]\n",
            "Matrix B:\n",
            " [[5 6]\n",
            " [7 8]]\n",
            "Result using np.matmul():\n",
            " [[19 22]\n",
            " [43 50]]\n"
          ]
        }
      ]
    },
    {
      "cell_type": "code",
      "source": [
        "#12  Use Pandas to load a CSV file and display its first 5 rows\n",
        "\n",
        "import pandas as pd\n",
        "\n",
        "\n",
        "df = pd.read_csv(\"/content/Bengaluru_House_Data.csv\")\n",
        "\n",
        "\n",
        "print(df.head())\n"
      ],
      "metadata": {
        "colab": {
          "base_uri": "https://localhost:8080/"
        },
        "id": "hfpIoUpbH6h5",
        "outputId": "f46ebc5c-69ae-438b-db00-b2f825a14b80"
      },
      "execution_count": 37,
      "outputs": [
        {
          "output_type": "stream",
          "name": "stdout",
          "text": [
            "              area_type   availability                  location       size  \\\n",
            "0  Super built-up  Area         19-Dec  Electronic City Phase II      2 BHK   \n",
            "1            Plot  Area  Ready To Move          Chikka Tirupathi  4 Bedroom   \n",
            "2        Built-up  Area  Ready To Move               Uttarahalli      3 BHK   \n",
            "3  Super built-up  Area  Ready To Move        Lingadheeranahalli      3 BHK   \n",
            "4  Super built-up  Area  Ready To Move                  Kothanur      2 BHK   \n",
            "\n",
            "   society total_sqft  bath  balcony   price  \n",
            "0  Coomee        1056   2.0      1.0   39.07  \n",
            "1  Theanmp       2600   5.0      3.0  120.00  \n",
            "2      NaN       1440   2.0      3.0   62.00  \n",
            "3  Soiewre       1521   3.0      1.0   95.00  \n",
            "4      NaN       1200   2.0      1.0   51.00  \n"
          ]
        }
      ]
    },
    {
      "cell_type": "code",
      "source": [
        "#13  Create a 3D scatter plot using Plotly\n",
        "\n",
        "import plotly.express as px\n",
        "import pandas as pd\n",
        "\n",
        "\n",
        "df = pd.DataFrame({\n",
        "    'x': [1, 2, 3, 4, 5, 6],\n",
        "    'y': [10, 15, 7, 9, 12, 4],\n",
        "    'z': [5, 8, 12, 3, 7, 10],\n",
        "    'category': ['A', 'B', 'A', 'B', 'A', 'B']\n",
        "})\n",
        "\n",
        "\n",
        "fig = px.scatter_3d(df, x='x', y='y', z='z', color='category', title=\"3D Scatter Plot\")\n",
        "\n",
        "\n",
        "fig.show()\n"
      ],
      "metadata": {
        "colab": {
          "base_uri": "https://localhost:8080/",
          "height": 542
        },
        "id": "gVf53-mDH6on",
        "outputId": "bd1c537e-2575-4468-88fd-e5d5ad5b6ca0"
      },
      "execution_count": 50,
      "outputs": [
        {
          "output_type": "display_data",
          "data": {
            "text/html": [
              "<html>\n",
              "<head><meta charset=\"utf-8\" /></head>\n",
              "<body>\n",
              "    <div>            <script src=\"https://cdnjs.cloudflare.com/ajax/libs/mathjax/2.7.5/MathJax.js?config=TeX-AMS-MML_SVG\"></script><script type=\"text/javascript\">if (window.MathJax && window.MathJax.Hub && window.MathJax.Hub.Config) {window.MathJax.Hub.Config({SVG: {font: \"STIX-Web\"}});}</script>                <script type=\"text/javascript\">window.PlotlyConfig = {MathJaxConfig: 'local'};</script>\n",
              "        <script charset=\"utf-8\" src=\"https://cdn.plot.ly/plotly-2.35.2.min.js\"></script>                <div id=\"2b8161bf-1fd3-4542-be89-2dedd5374733\" class=\"plotly-graph-div\" style=\"height:525px; width:100%;\"></div>            <script type=\"text/javascript\">                                    window.PLOTLYENV=window.PLOTLYENV || {};                                    if (document.getElementById(\"2b8161bf-1fd3-4542-be89-2dedd5374733\")) {                    Plotly.newPlot(                        \"2b8161bf-1fd3-4542-be89-2dedd5374733\",                        [{\"hovertemplate\":\"category=A\\u003cbr\\u003ex=%{x}\\u003cbr\\u003ey=%{y}\\u003cbr\\u003ez=%{z}\\u003cextra\\u003e\\u003c\\u002fextra\\u003e\",\"legendgroup\":\"A\",\"marker\":{\"color\":\"#636efa\",\"symbol\":\"circle\"},\"mode\":\"markers\",\"name\":\"A\",\"scene\":\"scene\",\"showlegend\":true,\"x\":[1,3,5],\"y\":[10,7,12],\"z\":[5,12,7],\"type\":\"scatter3d\"},{\"hovertemplate\":\"category=B\\u003cbr\\u003ex=%{x}\\u003cbr\\u003ey=%{y}\\u003cbr\\u003ez=%{z}\\u003cextra\\u003e\\u003c\\u002fextra\\u003e\",\"legendgroup\":\"B\",\"marker\":{\"color\":\"#EF553B\",\"symbol\":\"circle\"},\"mode\":\"markers\",\"name\":\"B\",\"scene\":\"scene\",\"showlegend\":true,\"x\":[2,4,6],\"y\":[15,9,4],\"z\":[8,3,10],\"type\":\"scatter3d\"}],                        {\"template\":{\"data\":{\"histogram2dcontour\":[{\"type\":\"histogram2dcontour\",\"colorbar\":{\"outlinewidth\":0,\"ticks\":\"\"},\"colorscale\":[[0.0,\"#0d0887\"],[0.1111111111111111,\"#46039f\"],[0.2222222222222222,\"#7201a8\"],[0.3333333333333333,\"#9c179e\"],[0.4444444444444444,\"#bd3786\"],[0.5555555555555556,\"#d8576b\"],[0.6666666666666666,\"#ed7953\"],[0.7777777777777778,\"#fb9f3a\"],[0.8888888888888888,\"#fdca26\"],[1.0,\"#f0f921\"]]}],\"choropleth\":[{\"type\":\"choropleth\",\"colorbar\":{\"outlinewidth\":0,\"ticks\":\"\"}}],\"histogram2d\":[{\"type\":\"histogram2d\",\"colorbar\":{\"outlinewidth\":0,\"ticks\":\"\"},\"colorscale\":[[0.0,\"#0d0887\"],[0.1111111111111111,\"#46039f\"],[0.2222222222222222,\"#7201a8\"],[0.3333333333333333,\"#9c179e\"],[0.4444444444444444,\"#bd3786\"],[0.5555555555555556,\"#d8576b\"],[0.6666666666666666,\"#ed7953\"],[0.7777777777777778,\"#fb9f3a\"],[0.8888888888888888,\"#fdca26\"],[1.0,\"#f0f921\"]]}],\"heatmap\":[{\"type\":\"heatmap\",\"colorbar\":{\"outlinewidth\":0,\"ticks\":\"\"},\"colorscale\":[[0.0,\"#0d0887\"],[0.1111111111111111,\"#46039f\"],[0.2222222222222222,\"#7201a8\"],[0.3333333333333333,\"#9c179e\"],[0.4444444444444444,\"#bd3786\"],[0.5555555555555556,\"#d8576b\"],[0.6666666666666666,\"#ed7953\"],[0.7777777777777778,\"#fb9f3a\"],[0.8888888888888888,\"#fdca26\"],[1.0,\"#f0f921\"]]}],\"heatmapgl\":[{\"type\":\"heatmapgl\",\"colorbar\":{\"outlinewidth\":0,\"ticks\":\"\"},\"colorscale\":[[0.0,\"#0d0887\"],[0.1111111111111111,\"#46039f\"],[0.2222222222222222,\"#7201a8\"],[0.3333333333333333,\"#9c179e\"],[0.4444444444444444,\"#bd3786\"],[0.5555555555555556,\"#d8576b\"],[0.6666666666666666,\"#ed7953\"],[0.7777777777777778,\"#fb9f3a\"],[0.8888888888888888,\"#fdca26\"],[1.0,\"#f0f921\"]]}],\"contourcarpet\":[{\"type\":\"contourcarpet\",\"colorbar\":{\"outlinewidth\":0,\"ticks\":\"\"}}],\"contour\":[{\"type\":\"contour\",\"colorbar\":{\"outlinewidth\":0,\"ticks\":\"\"},\"colorscale\":[[0.0,\"#0d0887\"],[0.1111111111111111,\"#46039f\"],[0.2222222222222222,\"#7201a8\"],[0.3333333333333333,\"#9c179e\"],[0.4444444444444444,\"#bd3786\"],[0.5555555555555556,\"#d8576b\"],[0.6666666666666666,\"#ed7953\"],[0.7777777777777778,\"#fb9f3a\"],[0.8888888888888888,\"#fdca26\"],[1.0,\"#f0f921\"]]}],\"surface\":[{\"type\":\"surface\",\"colorbar\":{\"outlinewidth\":0,\"ticks\":\"\"},\"colorscale\":[[0.0,\"#0d0887\"],[0.1111111111111111,\"#46039f\"],[0.2222222222222222,\"#7201a8\"],[0.3333333333333333,\"#9c179e\"],[0.4444444444444444,\"#bd3786\"],[0.5555555555555556,\"#d8576b\"],[0.6666666666666666,\"#ed7953\"],[0.7777777777777778,\"#fb9f3a\"],[0.8888888888888888,\"#fdca26\"],[1.0,\"#f0f921\"]]}],\"mesh3d\":[{\"type\":\"mesh3d\",\"colorbar\":{\"outlinewidth\":0,\"ticks\":\"\"}}],\"scatter\":[{\"fillpattern\":{\"fillmode\":\"overlay\",\"size\":10,\"solidity\":0.2},\"type\":\"scatter\"}],\"parcoords\":[{\"type\":\"parcoords\",\"line\":{\"colorbar\":{\"outlinewidth\":0,\"ticks\":\"\"}}}],\"scatterpolargl\":[{\"type\":\"scatterpolargl\",\"marker\":{\"colorbar\":{\"outlinewidth\":0,\"ticks\":\"\"}}}],\"bar\":[{\"error_x\":{\"color\":\"#2a3f5f\"},\"error_y\":{\"color\":\"#2a3f5f\"},\"marker\":{\"line\":{\"color\":\"#E5ECF6\",\"width\":0.5},\"pattern\":{\"fillmode\":\"overlay\",\"size\":10,\"solidity\":0.2}},\"type\":\"bar\"}],\"scattergeo\":[{\"type\":\"scattergeo\",\"marker\":{\"colorbar\":{\"outlinewidth\":0,\"ticks\":\"\"}}}],\"scatterpolar\":[{\"type\":\"scatterpolar\",\"marker\":{\"colorbar\":{\"outlinewidth\":0,\"ticks\":\"\"}}}],\"histogram\":[{\"marker\":{\"pattern\":{\"fillmode\":\"overlay\",\"size\":10,\"solidity\":0.2}},\"type\":\"histogram\"}],\"scattergl\":[{\"type\":\"scattergl\",\"marker\":{\"colorbar\":{\"outlinewidth\":0,\"ticks\":\"\"}}}],\"scatter3d\":[{\"type\":\"scatter3d\",\"line\":{\"colorbar\":{\"outlinewidth\":0,\"ticks\":\"\"}},\"marker\":{\"colorbar\":{\"outlinewidth\":0,\"ticks\":\"\"}}}],\"scattermapbox\":[{\"type\":\"scattermapbox\",\"marker\":{\"colorbar\":{\"outlinewidth\":0,\"ticks\":\"\"}}}],\"scatterternary\":[{\"type\":\"scatterternary\",\"marker\":{\"colorbar\":{\"outlinewidth\":0,\"ticks\":\"\"}}}],\"scattercarpet\":[{\"type\":\"scattercarpet\",\"marker\":{\"colorbar\":{\"outlinewidth\":0,\"ticks\":\"\"}}}],\"carpet\":[{\"aaxis\":{\"endlinecolor\":\"#2a3f5f\",\"gridcolor\":\"white\",\"linecolor\":\"white\",\"minorgridcolor\":\"white\",\"startlinecolor\":\"#2a3f5f\"},\"baxis\":{\"endlinecolor\":\"#2a3f5f\",\"gridcolor\":\"white\",\"linecolor\":\"white\",\"minorgridcolor\":\"white\",\"startlinecolor\":\"#2a3f5f\"},\"type\":\"carpet\"}],\"table\":[{\"cells\":{\"fill\":{\"color\":\"#EBF0F8\"},\"line\":{\"color\":\"white\"}},\"header\":{\"fill\":{\"color\":\"#C8D4E3\"},\"line\":{\"color\":\"white\"}},\"type\":\"table\"}],\"barpolar\":[{\"marker\":{\"line\":{\"color\":\"#E5ECF6\",\"width\":0.5},\"pattern\":{\"fillmode\":\"overlay\",\"size\":10,\"solidity\":0.2}},\"type\":\"barpolar\"}],\"pie\":[{\"automargin\":true,\"type\":\"pie\"}]},\"layout\":{\"autotypenumbers\":\"strict\",\"colorway\":[\"#636efa\",\"#EF553B\",\"#00cc96\",\"#ab63fa\",\"#FFA15A\",\"#19d3f3\",\"#FF6692\",\"#B6E880\",\"#FF97FF\",\"#FECB52\"],\"font\":{\"color\":\"#2a3f5f\"},\"hovermode\":\"closest\",\"hoverlabel\":{\"align\":\"left\"},\"paper_bgcolor\":\"white\",\"plot_bgcolor\":\"#E5ECF6\",\"polar\":{\"bgcolor\":\"#E5ECF6\",\"angularaxis\":{\"gridcolor\":\"white\",\"linecolor\":\"white\",\"ticks\":\"\"},\"radialaxis\":{\"gridcolor\":\"white\",\"linecolor\":\"white\",\"ticks\":\"\"}},\"ternary\":{\"bgcolor\":\"#E5ECF6\",\"aaxis\":{\"gridcolor\":\"white\",\"linecolor\":\"white\",\"ticks\":\"\"},\"baxis\":{\"gridcolor\":\"white\",\"linecolor\":\"white\",\"ticks\":\"\"},\"caxis\":{\"gridcolor\":\"white\",\"linecolor\":\"white\",\"ticks\":\"\"}},\"coloraxis\":{\"colorbar\":{\"outlinewidth\":0,\"ticks\":\"\"}},\"colorscale\":{\"sequential\":[[0.0,\"#0d0887\"],[0.1111111111111111,\"#46039f\"],[0.2222222222222222,\"#7201a8\"],[0.3333333333333333,\"#9c179e\"],[0.4444444444444444,\"#bd3786\"],[0.5555555555555556,\"#d8576b\"],[0.6666666666666666,\"#ed7953\"],[0.7777777777777778,\"#fb9f3a\"],[0.8888888888888888,\"#fdca26\"],[1.0,\"#f0f921\"]],\"sequentialminus\":[[0.0,\"#0d0887\"],[0.1111111111111111,\"#46039f\"],[0.2222222222222222,\"#7201a8\"],[0.3333333333333333,\"#9c179e\"],[0.4444444444444444,\"#bd3786\"],[0.5555555555555556,\"#d8576b\"],[0.6666666666666666,\"#ed7953\"],[0.7777777777777778,\"#fb9f3a\"],[0.8888888888888888,\"#fdca26\"],[1.0,\"#f0f921\"]],\"diverging\":[[0,\"#8e0152\"],[0.1,\"#c51b7d\"],[0.2,\"#de77ae\"],[0.3,\"#f1b6da\"],[0.4,\"#fde0ef\"],[0.5,\"#f7f7f7\"],[0.6,\"#e6f5d0\"],[0.7,\"#b8e186\"],[0.8,\"#7fbc41\"],[0.9,\"#4d9221\"],[1,\"#276419\"]]},\"xaxis\":{\"gridcolor\":\"white\",\"linecolor\":\"white\",\"ticks\":\"\",\"title\":{\"standoff\":15},\"zerolinecolor\":\"white\",\"automargin\":true,\"zerolinewidth\":2},\"yaxis\":{\"gridcolor\":\"white\",\"linecolor\":\"white\",\"ticks\":\"\",\"title\":{\"standoff\":15},\"zerolinecolor\":\"white\",\"automargin\":true,\"zerolinewidth\":2},\"scene\":{\"xaxis\":{\"backgroundcolor\":\"#E5ECF6\",\"gridcolor\":\"white\",\"linecolor\":\"white\",\"showbackground\":true,\"ticks\":\"\",\"zerolinecolor\":\"white\",\"gridwidth\":2},\"yaxis\":{\"backgroundcolor\":\"#E5ECF6\",\"gridcolor\":\"white\",\"linecolor\":\"white\",\"showbackground\":true,\"ticks\":\"\",\"zerolinecolor\":\"white\",\"gridwidth\":2},\"zaxis\":{\"backgroundcolor\":\"#E5ECF6\",\"gridcolor\":\"white\",\"linecolor\":\"white\",\"showbackground\":true,\"ticks\":\"\",\"zerolinecolor\":\"white\",\"gridwidth\":2}},\"shapedefaults\":{\"line\":{\"color\":\"#2a3f5f\"}},\"annotationdefaults\":{\"arrowcolor\":\"#2a3f5f\",\"arrowhead\":0,\"arrowwidth\":1},\"geo\":{\"bgcolor\":\"white\",\"landcolor\":\"#E5ECF6\",\"subunitcolor\":\"white\",\"showland\":true,\"showlakes\":true,\"lakecolor\":\"white\"},\"title\":{\"x\":0.05},\"mapbox\":{\"style\":\"light\"}}},\"scene\":{\"domain\":{\"x\":[0.0,1.0],\"y\":[0.0,1.0]},\"xaxis\":{\"title\":{\"text\":\"x\"}},\"yaxis\":{\"title\":{\"text\":\"y\"}},\"zaxis\":{\"title\":{\"text\":\"z\"}}},\"legend\":{\"title\":{\"text\":\"category\"},\"tracegroupgap\":0},\"title\":{\"text\":\"3D Scatter Plot\"}},                        {\"responsive\": true}                    ).then(function(){\n",
              "                            \n",
              "var gd = document.getElementById('2b8161bf-1fd3-4542-be89-2dedd5374733');\n",
              "var x = new MutationObserver(function (mutations, observer) {{\n",
              "        var display = window.getComputedStyle(gd).display;\n",
              "        if (!display || display === 'none') {{\n",
              "            console.log([gd, 'removed!']);\n",
              "            Plotly.purge(gd);\n",
              "            observer.disconnect();\n",
              "        }}\n",
              "}});\n",
              "\n",
              "// Listen for the removal of the full notebook cells\n",
              "var notebookContainer = gd.closest('#notebook-container');\n",
              "if (notebookContainer) {{\n",
              "    x.observe(notebookContainer, {childList: true});\n",
              "}}\n",
              "\n",
              "// Listen for the clearing of the current output cell\n",
              "var outputEl = gd.closest('.output');\n",
              "if (outputEl) {{\n",
              "    x.observe(outputEl, {childList: true});\n",
              "}}\n",
              "\n",
              "                        })                };                            </script>        </div>\n",
              "</body>\n",
              "</html>"
            ]
          },
          "metadata": {}
        }
      ]
    },
    {
      "cell_type": "code",
      "source": [
        " # Practical Questions 5 and 13 are working perfectly, just the output is not being displayed in downloaded ipynb file."
      ],
      "metadata": {
        "id": "Wm7JS_NoGpUH"
      },
      "execution_count": null,
      "outputs": []
    }
  ]
}